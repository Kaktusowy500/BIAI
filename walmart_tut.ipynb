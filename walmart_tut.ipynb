{
 "cells": [
  {
   "cell_type": "markdown",
   "id": "502962a8",
   "metadata": {},
   "source": [
    "## Predicting Walmart's Quarterly Earnings - Pytorch LSTM Example\n",
    "### Applying LSTMs to Predict Quarterly Earnings\n",
    "\n",
    "This is the code accompanying my Medium article which you can find linked in the ReadMe. The code blocks follow the same pattern as those in the article!"
   ]
  },
  {
   "cell_type": "code",
   "execution_count": 1,
   "id": "b4586235",
   "metadata": {},
   "outputs": [],
   "source": [
    "#-- Necessary Imports\n",
    "import pandas as pd\n",
    "import numpy as np\n",
    "import torch\n",
    "import torch.nn as nn\n",
    "import torch.optim as optim\n",
    "import datetime as dt\n",
    "\n",
    "import matplotlib.pyplot as plt\n",
    "import matplotlib as mpl\n",
    "%matplotlib inline"
   ]
  },
  {
   "cell_type": "code",
   "execution_count": 109,
   "id": "113ed809",
   "metadata": {},
   "outputs": [
    {
     "data": {
      "text/html": [
       "<div>\n",
       "<style scoped>\n",
       "    .dataframe tbody tr th:only-of-type {\n",
       "        vertical-align: middle;\n",
       "    }\n",
       "\n",
       "    .dataframe tbody tr th {\n",
       "        vertical-align: top;\n",
       "    }\n",
       "\n",
       "    .dataframe thead th {\n",
       "        text-align: right;\n",
       "    }\n",
       "</style>\n",
       "<table border=\"1\" class=\"dataframe\">\n",
       "  <thead>\n",
       "    <tr style=\"text-align: right;\">\n",
       "      <th></th>\n",
       "      <th>Close</th>\n",
       "    </tr>\n",
       "    <tr>\n",
       "      <th>Date</th>\n",
       "      <th></th>\n",
       "    </tr>\n",
       "  </thead>\n",
       "  <tbody>\n",
       "    <tr>\n",
       "      <th>2019-12-11</th>\n",
       "      <td>86.589996</td>\n",
       "    </tr>\n",
       "    <tr>\n",
       "      <th>2019-12-12</th>\n",
       "      <td>88.209999</td>\n",
       "    </tr>\n",
       "    <tr>\n",
       "      <th>2019-12-13</th>\n",
       "      <td>88.669998</td>\n",
       "    </tr>\n",
       "    <tr>\n",
       "      <th>2019-12-16</th>\n",
       "      <td>88.779999</td>\n",
       "    </tr>\n",
       "    <tr>\n",
       "      <th>2019-12-17</th>\n",
       "      <td>88.129997</td>\n",
       "    </tr>\n",
       "    <tr>\n",
       "      <th>...</th>\n",
       "      <td>...</td>\n",
       "    </tr>\n",
       "    <tr>\n",
       "      <th>2020-09-21</th>\n",
       "      <td>83.889999</td>\n",
       "    </tr>\n",
       "    <tr>\n",
       "      <th>2020-09-22</th>\n",
       "      <td>83.949997</td>\n",
       "    </tr>\n",
       "    <tr>\n",
       "      <th>2020-09-23</th>\n",
       "      <td>82.989998</td>\n",
       "    </tr>\n",
       "    <tr>\n",
       "      <th>2020-09-24</th>\n",
       "      <td>83.040001</td>\n",
       "    </tr>\n",
       "    <tr>\n",
       "      <th>2020-09-25</th>\n",
       "      <td>84.300003</td>\n",
       "    </tr>\n",
       "  </tbody>\n",
       "</table>\n",
       "<p>200 rows × 1 columns</p>\n",
       "</div>"
      ],
      "text/plain": [
       "                Close\n",
       "Date                 \n",
       "2019-12-11  86.589996\n",
       "2019-12-12  88.209999\n",
       "2019-12-13  88.669998\n",
       "2019-12-16  88.779999\n",
       "2019-12-17  88.129997\n",
       "...               ...\n",
       "2020-09-21  83.889999\n",
       "2020-09-22  83.949997\n",
       "2020-09-23  82.989998\n",
       "2020-09-24  83.040001\n",
       "2020-09-25  84.300003\n",
       "\n",
       "[200 rows x 1 columns]"
      ]
     },
     "execution_count": 109,
     "metadata": {},
     "output_type": "execute_result"
    }
   ],
   "source": [
    "df = pd.read_csv('SBUX.csv', index_col = 'Date', parse_dates=True)\n",
    "df = df.iloc[:200, 3:4]\n",
    "df"
   ]
  },
  {
   "cell_type": "code",
   "execution_count": 110,
   "id": "db36486f",
   "metadata": {},
   "outputs": [],
   "source": [
    "def train_test(df, test_periods):\n",
    "    train = df[:-test_periods].values\n",
    "    test = df[-test_periods:].values\n",
    "    return train, test\n",
    "test_periods = 10\n",
    "train, test = train_test(df, test_periods)"
   ]
  },
  {
   "cell_type": "code",
   "execution_count": 111,
   "id": "9b370170",
   "metadata": {},
   "outputs": [],
   "source": [
    "from sklearn.preprocessing import MinMaxScaler\n",
    "scaler = MinMaxScaler()\n",
    "scaler.fit(train)\n",
    "train_scaled = scaler.transform(train)"
   ]
  },
  {
   "cell_type": "code",
   "execution_count": 112,
   "id": "76e22e59",
   "metadata": {},
   "outputs": [
    {
     "name": "stdout",
     "output_type": "stream",
     "text": [
      "Original dimensions : torch.Size([190, 1])\n",
      "Correct dimensions : torch.Size([190])\n"
     ]
    }
   ],
   "source": [
    "train_scaled = torch.FloatTensor(train_scaled)\n",
    "print(f'Original dimensions : {train_scaled.shape}')\n",
    "train_scaled = train_scaled.view(-1)\n",
    "print(f'Correct dimensions : {train_scaled.shape}')"
   ]
  },
  {
   "cell_type": "code",
   "execution_count": 113,
   "id": "30a62951",
   "metadata": {},
   "outputs": [
    {
     "name": "stdout",
     "output_type": "stream",
     "text": [
      "torch.Size([150, 30])\n",
      "torch.Size([150, 10])\n"
     ]
    }
   ],
   "source": [
    "def get_x_y_pairs(train_scaled, train_periods, prediction_periods):\n",
    "    \"\"\"\n",
    "    train_scaled - training sequence\n",
    "    train_periods - How many data points to use as inputs\n",
    "    prediction_periods - How many periods to ouput as predictions\n",
    "    \"\"\"\n",
    "    x_train = [train_scaled[i:i+train_periods] for i in range(len(train_scaled)-train_periods-prediction_periods)]\n",
    "    y_train = [train_scaled[i+train_periods:i+train_periods+prediction_periods] for i in range(len(train_scaled)-train_periods-prediction_periods)]\n",
    "    \n",
    "    #-- use the stack function to convert the list of 1D tensors\n",
    "    # into a 2D tensor where each element of the list is now a row\n",
    "    x_train = torch.stack(x_train)\n",
    "    y_train = torch.stack(y_train)\n",
    "    \n",
    "    return x_train, y_train\n",
    "\n",
    "train_periods = 30 #-- number of values for input\n",
    "prediction_periods = test_periods\n",
    "x_train, y_train = get_x_y_pairs(train_scaled, train_periods, prediction_periods)\n",
    "print(x_train.shape)\n",
    "print(y_train.shape)"
   ]
  },
  {
   "cell_type": "code",
   "execution_count": 114,
   "id": "1662f1d4",
   "metadata": {},
   "outputs": [],
   "source": [
    "class LSTM(nn.Module):\n",
    "    \"\"\"\n",
    "    input_size - will be 1 in this example since we have only 1 predictor (a sequence of previous values)\n",
    "    hidden_size - Can be chosen to dictate how much hidden \"long term memory\" the network will have\n",
    "    output_size - This will be equal to the prediciton_periods input to get_x_y_pairs\n",
    "    \"\"\"\n",
    "    def __init__(self, input_size, hidden_size, output_size):\n",
    "        super(LSTM, self).__init__()\n",
    "        self.hidden_size = hidden_size\n",
    "        \n",
    "        self.lstm = nn.LSTM(input_size, hidden_size)\n",
    "        \n",
    "        self.linear = nn.Linear(hidden_size, output_size)\n",
    "        \n",
    "    def forward(self, x, hidden=None):\n",
    "        if hidden==None:\n",
    "            self.hidden = (torch.zeros(1,1,self.hidden_size),\n",
    "                           torch.zeros(1,1,self.hidden_size))\n",
    "        else:\n",
    "            self.hidden = hidden\n",
    "            \n",
    "        \"\"\"\n",
    "        inputs need to be in the right shape as defined in documentation\n",
    "        - https://pytorch.org/docs/stable/generated/torch.nn.LSTM.html\n",
    "        \n",
    "        lstm_out - will contain the hidden states from all times in the sequence\n",
    "        self.hidden - will contain the current hidden state and cell state\n",
    "        \"\"\"\n",
    "        lstm_out, self.hidden = self.lstm(x.view(len(x),1,-1), \n",
    "                                          self.hidden)\n",
    "        \n",
    "        predictions = self.linear(lstm_out.view(len(x), -1))\n",
    "        \n",
    "        return predictions[-1], self.hidden"
   ]
  },
  {
   "cell_type": "code",
   "execution_count": 125,
   "id": "bd96e971",
   "metadata": {},
   "outputs": [],
   "source": [
    "model = LSTM(input_size=1, hidden_size=5, output_size=test_periods)\n",
    "criterion = nn.MSELoss()\n",
    "optimizer = optim.Adam(model.parameters(), lr=0.001)"
   ]
  },
  {
   "cell_type": "code",
   "execution_count": 129,
   "id": "a1973cd5",
   "metadata": {},
   "outputs": [
    {
     "name": "stdout",
     "output_type": "stream",
     "text": [
      "epoch:    0 loss:0.02024824\n",
      "epoch:   20 loss:0.01966180\n",
      "epoch:   40 loss:0.01855633\n",
      "epoch:   60 loss:0.01878710\n",
      "epoch:   80 loss:0.01996206\n",
      "epoch:  100 loss:0.02022770\n"
     ]
    }
   ],
   "source": [
    "epochs = 100\n",
    "model.train()\n",
    "for epoch in range(epochs+1):\n",
    "    for x,y in zip(x_train, y_train):\n",
    "        y_hat, _ = model(x)\n",
    "        optimizer.zero_grad()\n",
    "        loss = criterion(y_hat, y)\n",
    "        loss.backward()\n",
    "        optimizer.step()\n",
    "        \n",
    "    if epoch%20==0:\n",
    "        print(f'epoch: {epoch:4} loss:{loss.item():10.8f}')"
   ]
  },
  {
   "cell_type": "code",
   "execution_count": 133,
   "id": "5d14fcc4",
   "metadata": {},
   "outputs": [
    {
     "data": {
      "text/plain": [
       "array([[85.118095],\n",
       "       [84.54156 ],\n",
       "       [83.78084 ],\n",
       "       [83.77743 ],\n",
       "       [82.98391 ],\n",
       "       [82.52283 ],\n",
       "       [81.70881 ],\n",
       "       [81.08506 ],\n",
       "       [79.88322 ],\n",
       "       [79.267876]], dtype=float32)"
      ]
     },
     "execution_count": 133,
     "metadata": {},
     "output_type": "execute_result"
    }
   ],
   "source": [
    "model.eval()\n",
    "with torch.no_grad():\n",
    "    predictions, _ = model(train_scaled[-train_periods:])\n",
    "#-- Apply inverse transform to undo scaling\n",
    "predictions = scaler.inverse_transform(np.array(predictions.reshape(-1,1)))\n",
    "predictions"
   ]
  },
  {
   "cell_type": "code",
   "execution_count": 134,
   "id": "435a4469",
   "metadata": {},
   "outputs": [
    {
     "data": {
      "image/png": "[encoded data removed]",
      "text/plain": [
       "<Figure size 720x360 with 1 Axes>"
      ]
     },
     "metadata": {
      "needs_background": "light"
     },
     "output_type": "display_data"
    }
   ],
   "source": [
    "x = [dt.datetime.date(d) for d in df.index]\n",
    "font = {'size'   : 15}\n",
    "\n",
    "mpl.rc('font', **font)\n",
    "fig = plt.figure(figsize=(10,5))\n",
    "plt.title('Walmart Quarterly Revenue')\n",
    "plt.ylabel('Revenue (Billions)')\n",
    "plt.grid(True)\n",
    "plt.plot(x[:-len(predictions)],\n",
    "         df[:-len(predictions)],\n",
    "         \"b-\")\n",
    "plt.plot(x[-len(predictions):],\n",
    "         df[-len(predictions):],\n",
    "         \"b--\",\n",
    "         label='True Values')\n",
    "plt.plot(x[-len(predictions):],\n",
    "         predictions,\n",
    "         \"r-\",\n",
    "         label='Predicted Values')\n",
    "plt.legend()\n",
    "plt.savefig('plot1', dpi=600)"
   ]
  },
  {
   "cell_type": "code",
   "execution_count": null,
   "id": "b4fe3e8a",
   "metadata": {},
   "outputs": [],
   "source": []
  }
 ],
 "metadata": {
  "interpreter": {
   "hash": "0db39d1224b997b96cc8c02b0530d86f5778fca5c81aae5b0263fea6b29bd35e"
  },
  "kernelspec": {
   "display_name": "Python 3.9.12 ('biai')",
   "language": "python",
   "name": "python3"
  },
  "language_info": {
   "codemirror_mode": {
    "name": "ipython",
    "version": 3
   },
   "file_extension": ".py",
   "mimetype": "text/x-python",
   "name": "python",
   "nbconvert_exporter": "python",
   "pygments_lexer": "ipython3",
   "version": "3.9.12"
  }
 },
 "nbformat": 4,
 "nbformat_minor": 5
}
