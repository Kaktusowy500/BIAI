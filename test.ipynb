{
 "cells": [
  {
   "cell_type": "code",
   "execution_count": 1,
   "metadata": {},
   "outputs": [
    {
     "name": "stdout",
     "output_type": "stream",
     "text": [
      "{'zip': '98052-6399', 'sector': 'Technology', 'fullTimeEmployees': 181000, 'longBusinessSummary': 'Microsoft Corporation develops, licenses, and supports software, services, devices, and solutions worldwide. Its Productivity and Business Processes segment offers Office, Exchange, SharePoint, Microsoft Teams, Office 365 Security and Compliance, and Skype for Business, as well as related Client Access Licenses (CAL); Skype, Outlook.com, OneDrive, and LinkedIn; and Dynamics 365, a set of cloud-based and on-premises business solutions for organizations and enterprise divisions. Its Intelligent Cloud segment licenses SQL, Windows Servers, Visual Studio, System Center, and related CALs; GitHub that provides a collaboration platform and code hosting service for developers; and Azure, a cloud platform. It also offers support services and Microsoft consulting services to assist customers in developing, deploying, and managing Microsoft server and desktop solutions; and training and certification on Microsoft products. Its More Personal Computing segment provides Windows original equipment manufacturer (OEM) licensing and other non-volume licensing of the Windows operating system; Windows Commercial, such as volume licensing of the Windows operating system, Windows cloud services, and other Windows commercial offerings; patent licensing; Windows Internet of Things; and MSN advertising. It also offers Surface, PC accessories, PCs, tablets, gaming and entertainment consoles, and other devices; Gaming, including Xbox hardware, and Xbox content and services; video games and third-party video game royalties; and Search, including Bing and Microsoft advertising. It sells its products through OEMs, distributors, and resellers; and directly through digital marketplaces, online stores, and retail stores. It has collaborations with Dynatrace, Inc., Morgan Stanley, Micro Focus, WPP plc, ACI Worldwide, Inc., and iCIMS, Inc., as well as strategic relationships with Avaya Holdings Corp. and wejo Limited. Microsoft Corporation was founded in 1975 and is based in Redmond, Washington.', 'city': 'Redmond', 'phone': '425 882 8080', 'state': 'WA', 'country': 'United States', 'companyOfficers': [], 'website': 'https://www.microsoft.com', 'maxAge': 1, 'address1': 'One Microsoft Way', 'industry': 'Software—Infrastructure', 'ebitdaMargins': 0.49327, 'profitMargins': 0.37627998, 'grossMargins': 0.6873, 'operatingCashflow': 87115997184, 'revenueGrowth': 0.184, 'operatingMargins': 0.42556, 'ebitda': 94982995968, 'targetLowPrice': 298.18, 'recommendationKey': 'buy', 'grossProfits': 115856000000, 'freeCashflow': 48917000192, 'targetMedianPrice': 357.15, 'currentPrice': 272.5, 'earningsGrowth': 0.094, 'currentRatio': 1.988, 'returnOnAssets': 0.15674, 'numberOfAnalystOpinions': 46, 'targetMeanPrice': 363.13, 'debtToEquity': 47.863, 'returnOnEquity': 0.48721, 'targetHighPrice': 500, 'totalCash': 104660000768, 'totalDebt': 77980999680, 'totalRevenue': 192557006848, 'totalCashPerShare': 13.994, 'financialCurrency': 'USD', 'revenuePerShare': 25.642, 'quickRatio': 1.773, 'recommendationMean': 1.7, 'exchange': 'NMS', 'shortName': 'Microsoft Corporation', 'longName': 'Microsoft Corporation', 'exchangeTimezoneName': 'America/New_York', 'exchangeTimezoneShortName': 'EDT', 'isEsgPopulated': False, 'gmtOffSetMilliseconds': '-14400000', 'quoteType': 'EQUITY', 'symbol': 'MSFT', 'messageBoardId': 'finmb_21835', 'market': 'us_market', 'annualHoldingsTurnover': None, 'enterpriseToRevenue': 10.446, 'beta3Year': None, 'enterpriseToEbitda': 21.176, '52WeekChange': 0.074569225, 'morningStarRiskRating': None, 'forwardEps': 10.74, 'revenueQuarterlyGrowth': None, 'sharesOutstanding': 7479029760, 'fundInceptionDate': None, 'annualReportExpenseRatio': None, 'totalAssets': None, 'bookValue': 21.773, 'sharesShort': 38428490, 'sharesPercentSharesOut': 0.0050999997, 'fundFamily': None, 'lastFiscalYearEnd': 1625011200, 'heldPercentInstitutions': 0.71828, 'netIncomeToCommon': 72456003584, 'trailingEps': 9.58, 'lastDividendValue': 0.62, 'SandP52WeekChange': -0.013951719, 'priceToBook': 12.5155, 'heldPercentInsiders': 0.00075, 'nextFiscalYearEnd': 1688083200, 'yield': None, 'mostRecentQuarter': 1648684800, 'shortRatio': 1.07, 'sharesShortPreviousMonthDate': 1649894400, 'floatShares': 7472077634, 'beta': 0.939201, 'enterpriseValue': 2011357511680, 'priceHint': 2, 'threeYearAverageReturn': None, 'lastSplitDate': 1045526400, 'lastSplitFactor': '2:1', 'legalType': None, 'lastDividendDate': 1652832000, 'morningStarOverallRating': None, 'earningsQuarterlyGrowth': 0.082, 'priceToSalesTrailing12Months': 10.584064, 'dateShortInterest': 1652400000, 'pegRatio': 1.81, 'ytdReturn': None, 'forwardPE': 25.37244, 'lastCapGain': None, 'shortPercentOfFloat': 0.0050999997, 'sharesShortPriorMonth': 35578015, 'impliedSharesOutstanding': 0, 'category': None, 'fiveYearAverageReturn': None, 'previousClose': 268.75, 'regularMarketOpen': 266.635, 'twoHundredDayAverage': 302.4305, 'trailingAnnualDividendYield': 0.009004652, 'payoutRatio': 0.2463, 'volume24Hr': None, 'regularMarketDayHigh': 273.13, 'navPrice': None, 'averageDailyVolume10Day': 28991970, 'regularMarketPreviousClose': 268.75, 'fiftyDayAverage': 279.6814, 'trailingAnnualDividendRate': 2.42, 'open': 266.635, 'toCurrency': None, 'averageVolume10days': 28991970, 'expireDate': None, 'algorithm': None, 'dividendRate': 2.48, 'exDividendDate': 1652832000, 'circulatingSupply': None, 'startDate': None, 'regularMarketDayLow': 266.03, 'currency': 'USD', 'trailingPE': 28.444677, 'regularMarketVolume': 22824509, 'lastMarket': None, 'maxSupply': None, 'openInterest': None, 'marketCap': 2038035644416, 'volumeAllCurrencies': None, 'strikePrice': None, 'averageVolume': 32268980, 'dayLow': 266.03, 'ask': 271.61, 'askSize': 1000, 'volume': 22824509, 'fiftyTwoWeekHigh': 349.67, 'fromCurrency': None, 'fiveYearAvgDividendYield': 1.27, 'fiftyTwoWeekLow': 246.44, 'bid': 0, 'tradeable': False, 'dividendYield': 0.0092, 'bidSize': 800, 'dayHigh': 273.13, 'regularMarketPrice': 272.5, 'preMarketPrice': 271.41, 'logo_url': 'https://logo.clearbit.com/microsoft.com', 'trailingPegRatio': 1.7027}\n"
     ]
    }
   ],
   "source": [
    "import yfinance as yf\n",
    "\n",
    "ticker = yf.Ticker('MSFT')\n",
    "\n",
    "print(ticker.info)"
   ]
  }
 ],
 "metadata": {
  "interpreter": {
   "hash": "90ce16838d49f8753f03121352d0f728652bae5f84dd2231d17e58ee67a6f657"
  },
  "kernelspec": {
   "display_name": "Python 3.8.13 ('biai')",
   "language": "python",
   "name": "python3"
  },
  "language_info": {
   "codemirror_mode": {
    "name": "ipython",
    "version": 3
   },
   "file_extension": ".py",
   "mimetype": "text/x-python",
   "name": "python",
   "nbconvert_exporter": "python",
   "pygments_lexer": "ipython3",
   "version": "3.8.13"
  },
  "orig_nbformat": 4
 },
 "nbformat": 4,
 "nbformat_minor": 2
}
