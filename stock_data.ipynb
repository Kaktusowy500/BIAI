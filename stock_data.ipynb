{
 "cells": [
  {
   "cell_type": "code",
   "execution_count": 12,
   "metadata": {},
   "outputs": [
    {
     "name": "stdout",
     "output_type": "stream",
     "text": [
      "567\n"
     ]
    }
   ],
   "source": [
    "import yfinance as yf\n",
    "import pandas as pd\n",
    "import os\n",
    "\n",
    "symbols_df = pd.read_csv('bats_symbols.csv')\n",
    "tickers = symbols_df['Name'].to_list()\n",
    "tickers_str = ' '.join(tickers)\n",
    "print(len(tickers))"
   ]
  },
  {
   "cell_type": "code",
   "execution_count": 13,
   "metadata": {},
   "outputs": [
    {
     "name": "stdout",
     "output_type": "stream",
     "text": [
      "[*********************100%***********************]  1 of 1 completed\n"
     ]
    },
    {
     "data": {
      "text/html": [
       "<div>\n",
       "<style scoped>\n",
       "    .dataframe tbody tr th:only-of-type {\n",
       "        vertical-align: middle;\n",
       "    }\n",
       "\n",
       "    .dataframe tbody tr th {\n",
       "        vertical-align: top;\n",
       "    }\n",
       "\n",
       "    .dataframe thead th {\n",
       "        text-align: right;\n",
       "    }\n",
       "</style>\n",
       "<table border=\"1\" class=\"dataframe\">\n",
       "  <thead>\n",
       "    <tr style=\"text-align: right;\">\n",
       "      <th></th>\n",
       "      <th>Open</th>\n",
       "      <th>High</th>\n",
       "      <th>Low</th>\n",
       "      <th>Close</th>\n",
       "      <th>Adj Close</th>\n",
       "      <th>Volume</th>\n",
       "    </tr>\n",
       "    <tr>\n",
       "      <th>Date</th>\n",
       "      <th></th>\n",
       "      <th></th>\n",
       "      <th></th>\n",
       "      <th></th>\n",
       "      <th></th>\n",
       "      <th></th>\n",
       "    </tr>\n",
       "  </thead>\n",
       "  <tbody>\n",
       "    <tr>\n",
       "      <th>2020-12-31</th>\n",
       "      <td>18.889999</td>\n",
       "      <td>18.940001</td>\n",
       "      <td>18.830000</td>\n",
       "      <td>18.940001</td>\n",
       "      <td>18.940001</td>\n",
       "      <td>282500</td>\n",
       "    </tr>\n",
       "    <tr>\n",
       "      <th>2021-01-04</th>\n",
       "      <td>19.330000</td>\n",
       "      <td>19.360001</td>\n",
       "      <td>19.219999</td>\n",
       "      <td>19.350000</td>\n",
       "      <td>19.350000</td>\n",
       "      <td>767800</td>\n",
       "    </tr>\n",
       "    <tr>\n",
       "      <th>2021-01-05</th>\n",
       "      <td>19.420000</td>\n",
       "      <td>19.440001</td>\n",
       "      <td>19.309999</td>\n",
       "      <td>19.410000</td>\n",
       "      <td>19.410000</td>\n",
       "      <td>607000</td>\n",
       "    </tr>\n",
       "    <tr>\n",
       "      <th>2021-01-06</th>\n",
       "      <td>19.270000</td>\n",
       "      <td>19.270000</td>\n",
       "      <td>18.930000</td>\n",
       "      <td>19.100000</td>\n",
       "      <td>19.100000</td>\n",
       "      <td>1425400</td>\n",
       "    </tr>\n",
       "    <tr>\n",
       "      <th>2021-01-07</th>\n",
       "      <td>19.070000</td>\n",
       "      <td>19.100000</td>\n",
       "      <td>18.990000</td>\n",
       "      <td>19.049999</td>\n",
       "      <td>19.049999</td>\n",
       "      <td>330200</td>\n",
       "    </tr>\n",
       "  </tbody>\n",
       "</table>\n",
       "</div>"
      ],
      "text/plain": [
       "                 Open       High        Low      Close  Adj Close   Volume\n",
       "Date                                                                      \n",
       "2020-12-31  18.889999  18.940001  18.830000  18.940001  18.940001   282500\n",
       "2021-01-04  19.330000  19.360001  19.219999  19.350000  19.350000   767800\n",
       "2021-01-05  19.420000  19.440001  19.309999  19.410000  19.410000   607000\n",
       "2021-01-06  19.270000  19.270000  18.930000  19.100000  19.100000  1425400\n",
       "2021-01-07  19.070000  19.100000  18.990000  19.049999  19.049999   330200"
      ]
     },
     "execution_count": 13,
     "metadata": {},
     "output_type": "execute_result"
    }
   ],
   "source": [
    "\n",
    "try:\n",
    "    os.mkdir('raw_data')\n",
    "\n",
    "    for ticker in tickers:\n",
    "        yf_df = yf.download(ticker, start='2021-01-01', end=\"2021-12-30\")\n",
    "        yf_df.to_csv('raw_data/' + ticker + '.csv')\n",
    "\n",
    "except FileExistsError:\n",
    "    pass"
   ]
  }
 ],
 "metadata": {
  "interpreter": {
   "hash": "90ce16838d49f8753f03121352d0f728652bae5f84dd2231d17e58ee67a6f657"
  },
  "kernelspec": {
   "display_name": "Python 3.8.13 ('biai')",
   "language": "python",
   "name": "python3"
  },
  "language_info": {
   "codemirror_mode": {
    "name": "ipython",
    "version": 3
   },
   "file_extension": ".py",
   "mimetype": "text/x-python",
   "name": "python",
   "nbconvert_exporter": "python",
   "pygments_lexer": "ipython3",
   "version": "3.8.13"
  },
  "orig_nbformat": 4
 },
 "nbformat": 4,
 "nbformat_minor": 2
}
