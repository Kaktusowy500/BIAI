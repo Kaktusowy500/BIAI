{
 "cells": [
  {
   "cell_type": "code",
   "execution_count": 2,
   "metadata": {},
   "outputs": [
    {
     "name": "stdout",
     "output_type": "stream",
     "text": [
      "Requirement already satisfied: pandas in /home/kaktus/miniconda3/envs/biai/lib/python3.9/site-packages (1.4.2)\n",
      "Requirement already satisfied: numpy>=1.18.5 in /home/kaktus/miniconda3/envs/biai/lib/python3.9/site-packages (from pandas) (1.22.3)\n",
      "Requirement already satisfied: python-dateutil>=2.8.1 in /home/kaktus/miniconda3/envs/biai/lib/python3.9/site-packages (from pandas) (2.8.2)\n",
      "Requirement already satisfied: pytz>=2020.1 in /home/kaktus/miniconda3/envs/biai/lib/python3.9/site-packages (from pandas) (2022.1)\n",
      "Requirement already satisfied: six>=1.5 in /home/kaktus/miniconda3/envs/biai/lib/python3.9/site-packages (from python-dateutil>=2.8.1->pandas) (1.16.0)\n"
     ]
    }
   ],
   "source": [
    "! pip install pandas\n",
    "import numpy as np\n",
    "import pandas as pd\n",
    "df = pd.read_csv('SBUX.csv', index_col = 'Date', parse_dates=True)"
   ]
  },
  {
   "cell_type": "code",
   "execution_count": 3,
   "metadata": {},
   "outputs": [
    {
     "data": {
      "text/html": [
       "<div>\n",
       "<style scoped>\n",
       "    .dataframe tbody tr th:only-of-type {\n",
       "        vertical-align: middle;\n",
       "    }\n",
       "\n",
       "    .dataframe tbody tr th {\n",
       "        vertical-align: top;\n",
       "    }\n",
       "\n",
       "    .dataframe thead th {\n",
       "        text-align: right;\n",
       "    }\n",
       "</style>\n",
       "<table border=\"1\" class=\"dataframe\">\n",
       "  <thead>\n",
       "    <tr style=\"text-align: right;\">\n",
       "      <th></th>\n",
       "      <th>Open</th>\n",
       "      <th>High</th>\n",
       "      <th>Low</th>\n",
       "      <th>Close</th>\n",
       "      <th>Adj Close</th>\n",
       "      <th>Volume</th>\n",
       "    </tr>\n",
       "    <tr>\n",
       "      <th>Date</th>\n",
       "      <th></th>\n",
       "      <th></th>\n",
       "      <th></th>\n",
       "      <th></th>\n",
       "      <th></th>\n",
       "      <th></th>\n",
       "    </tr>\n",
       "  </thead>\n",
       "  <tbody>\n",
       "    <tr>\n",
       "      <th>2019-12-11</th>\n",
       "      <td>86.260002</td>\n",
       "      <td>86.870003</td>\n",
       "      <td>85.849998</td>\n",
       "      <td>86.589996</td>\n",
       "      <td>82.458740</td>\n",
       "      <td>4921900</td>\n",
       "    </tr>\n",
       "    <tr>\n",
       "      <th>2019-12-12</th>\n",
       "      <td>88.000000</td>\n",
       "      <td>88.889999</td>\n",
       "      <td>87.540001</td>\n",
       "      <td>88.209999</td>\n",
       "      <td>84.001442</td>\n",
       "      <td>10282100</td>\n",
       "    </tr>\n",
       "    <tr>\n",
       "      <th>2019-12-13</th>\n",
       "      <td>88.019997</td>\n",
       "      <td>88.790001</td>\n",
       "      <td>87.580002</td>\n",
       "      <td>88.669998</td>\n",
       "      <td>84.439507</td>\n",
       "      <td>6714100</td>\n",
       "    </tr>\n",
       "    <tr>\n",
       "      <th>2019-12-16</th>\n",
       "      <td>89.139999</td>\n",
       "      <td>89.300003</td>\n",
       "      <td>88.430000</td>\n",
       "      <td>88.779999</td>\n",
       "      <td>84.544258</td>\n",
       "      <td>6705600</td>\n",
       "    </tr>\n",
       "    <tr>\n",
       "      <th>2019-12-17</th>\n",
       "      <td>88.870003</td>\n",
       "      <td>88.970001</td>\n",
       "      <td>87.470001</td>\n",
       "      <td>88.129997</td>\n",
       "      <td>83.925270</td>\n",
       "      <td>7296900</td>\n",
       "    </tr>\n",
       "  </tbody>\n",
       "</table>\n",
       "</div>"
      ],
      "text/plain": [
       "                 Open       High        Low      Close  Adj Close    Volume\n",
       "Date                                                                       \n",
       "2019-12-11  86.260002  86.870003  85.849998  86.589996  82.458740   4921900\n",
       "2019-12-12  88.000000  88.889999  87.540001  88.209999  84.001442  10282100\n",
       "2019-12-13  88.019997  88.790001  87.580002  88.669998  84.439507   6714100\n",
       "2019-12-16  89.139999  89.300003  88.430000  88.779999  84.544258   6705600\n",
       "2019-12-17  88.870003  88.970001  87.470001  88.129997  83.925270   7296900"
      ]
     },
     "execution_count": 3,
     "metadata": {},
     "output_type": "execute_result"
    }
   ],
   "source": [
    "df.head(5)"
   ]
  },
  {
   "cell_type": "code",
   "execution_count": 4,
   "metadata": {},
   "outputs": [
    {
     "data": {
      "text/plain": [
       "<AxesSubplot:title={'center':'Star Bucks Stock Close Price'}, xlabel='Date'>"
      ]
     },
     "execution_count": 4,
     "metadata": {},
     "output_type": "execute_result"
    },
    {
     "data": {
      "image/png": "[encoded data removed]",
      "text/plain": [
       "<Figure size 432x288 with 1 Axes>"
      ]
     },
     "metadata": {
      "needs_background": "light"
     },
     "output_type": "display_data"
    }
   ],
   "source": [
    "import matplotlib.pyplot as plt\n",
    "plt.style.use('ggplot')\n",
    "df['Close'].plot(label='CLOSE', title='Star Bucks Stock Close Price')"
   ]
  },
  {
   "cell_type": "code",
   "execution_count": 5,
   "metadata": {},
   "outputs": [],
   "source": [
    "import matplotlib.pyplot as plt\n",
    "df = pd.read_csv('data/AAAU.csv', index_col = 'Date', parse_dates=True)\n",
    "# df = df.iloc[:200, 3:4]\n"
   ]
  },
  {
   "cell_type": "code",
   "execution_count": 6,
   "metadata": {},
   "outputs": [
    {
     "data": {
      "text/html": [
       "<div>\n",
       "<style scoped>\n",
       "    .dataframe tbody tr th:only-of-type {\n",
       "        vertical-align: middle;\n",
       "    }\n",
       "\n",
       "    .dataframe tbody tr th {\n",
       "        vertical-align: top;\n",
       "    }\n",
       "\n",
       "    .dataframe thead th {\n",
       "        text-align: right;\n",
       "    }\n",
       "</style>\n",
       "<table border=\"1\" class=\"dataframe\">\n",
       "  <thead>\n",
       "    <tr style=\"text-align: right;\">\n",
       "      <th></th>\n",
       "      <th>Price %</th>\n",
       "    </tr>\n",
       "    <tr>\n",
       "      <th>Date</th>\n",
       "      <th></th>\n",
       "    </tr>\n",
       "  </thead>\n",
       "  <tbody>\n",
       "    <tr>\n",
       "      <th>2021-01-04</th>\n",
       "      <td>0.021189</td>\n",
       "    </tr>\n",
       "    <tr>\n",
       "      <th>2021-01-05</th>\n",
       "      <td>0.003091</td>\n",
       "    </tr>\n",
       "    <tr>\n",
       "      <th>2021-01-06</th>\n",
       "      <td>-0.016230</td>\n",
       "    </tr>\n",
       "    <tr>\n",
       "      <th>2021-01-07</th>\n",
       "      <td>-0.002625</td>\n",
       "    </tr>\n",
       "    <tr>\n",
       "      <th>2021-01-08</th>\n",
       "      <td>-0.034764</td>\n",
       "    </tr>\n",
       "    <tr>\n",
       "      <th>...</th>\n",
       "      <td>...</td>\n",
       "    </tr>\n",
       "    <tr>\n",
       "      <th>2021-12-22</th>\n",
       "      <td>0.008924</td>\n",
       "    </tr>\n",
       "    <tr>\n",
       "      <th>2021-12-23</th>\n",
       "      <td>0.003335</td>\n",
       "    </tr>\n",
       "    <tr>\n",
       "      <th>2021-12-27</th>\n",
       "      <td>0.001111</td>\n",
       "    </tr>\n",
       "    <tr>\n",
       "      <th>2021-12-28</th>\n",
       "      <td>-0.003902</td>\n",
       "    </tr>\n",
       "    <tr>\n",
       "      <th>2021-12-29</th>\n",
       "      <td>-0.000558</td>\n",
       "    </tr>\n",
       "  </tbody>\n",
       "</table>\n",
       "<p>250 rows × 1 columns</p>\n",
       "</div>"
      ],
      "text/plain": [
       "             Price %\n",
       "Date                \n",
       "2021-01-04  0.021189\n",
       "2021-01-05  0.003091\n",
       "2021-01-06 -0.016230\n",
       "2021-01-07 -0.002625\n",
       "2021-01-08 -0.034764\n",
       "...              ...\n",
       "2021-12-22  0.008924\n",
       "2021-12-23  0.003335\n",
       "2021-12-27  0.001111\n",
       "2021-12-28 -0.003902\n",
       "2021-12-29 -0.000558\n",
       "\n",
       "[250 rows x 1 columns]"
      ]
     },
     "execution_count": 6,
     "metadata": {},
     "output_type": "execute_result"
    }
   ],
   "source": [
    "\n",
    "close_price_df = df.iloc[:250, 1:2]\n",
    "close_price_df"
   ]
  },
  {
   "cell_type": "code",
   "execution_count": 7,
   "metadata": {},
   "outputs": [
    {
     "name": "stdout",
     "output_type": "stream",
     "text": [
      "Requirement already satisfied: sklearn in /home/kaktus/miniconda3/envs/biai/lib/python3.9/site-packages (0.0)\n",
      "Requirement already satisfied: scikit-learn in /home/kaktus/miniconda3/envs/biai/lib/python3.9/site-packages (from sklearn) (1.1.0)\n",
      "Requirement already satisfied: numpy>=1.17.3 in /home/kaktus/miniconda3/envs/biai/lib/python3.9/site-packages (from scikit-learn->sklearn) (1.22.3)\n",
      "Requirement already satisfied: scipy>=1.3.2 in /home/kaktus/miniconda3/envs/biai/lib/python3.9/site-packages (from scikit-learn->sklearn) (1.8.0)\n",
      "Requirement already satisfied: joblib>=1.0.0 in /home/kaktus/miniconda3/envs/biai/lib/python3.9/site-packages (from scikit-learn->sklearn) (1.1.0)\n",
      "Requirement already satisfied: threadpoolctl>=2.0.0 in /home/kaktus/miniconda3/envs/biai/lib/python3.9/site-packages (from scikit-learn->sklearn) (3.1.0)\n"
     ]
    }
   ],
   "source": [
    "! pip install sklearn\n",
    "from sklearn.preprocessing import StandardScaler, MinMaxScaler\n",
    "mm = MinMaxScaler()\n",
    "\n",
    "\n",
    "c_price_mm = mm.fit_transform(close_price_df) "
   ]
  },
  {
   "cell_type": "code",
   "execution_count": 8,
   "metadata": {},
   "outputs": [],
   "source": [
    "\n",
    "train_set = c_price_mm[:200, :]\n",
    "test_set = c_price_mm[200:, :] "
   ]
  },
  {
   "cell_type": "code",
   "execution_count": 9,
   "metadata": {},
   "outputs": [
    {
     "name": "stdout",
     "output_type": "stream",
     "text": [
      "Training set shape torch.Size([200, 1, 1])\n",
      "Test set shape torch.Size([50, 1, 1])\n"
     ]
    }
   ],
   "source": [
    "import torch #pytorch\n",
    "import torch.nn as nn\n",
    "from torch.autograd import Variable \n",
    "\n",
    "train_tensors = Variable(torch.Tensor(train_set))\n",
    "test_tensors = Variable(torch.Tensor(test_set)) \n",
    "\n",
    "\n",
    "train_tensors_final = torch.reshape(train_tensors,  (train_tensors.shape[0], 1, train_tensors.shape[1])) \n",
    "test_tensors_final = torch.reshape(test_tensors,  (test_tensors.shape[0], 1, test_tensors.shape[1])) \n",
    "\n",
    "print(\"Training set shape\", train_tensors_final.shape) \n",
    "print(\"Test set shape\",  test_tensors_final.shape)"
   ]
  },
  {
   "cell_type": "code",
   "execution_count": 10,
   "metadata": {},
   "outputs": [],
   "source": [
    "class LSTM1(nn.Module):\n",
    "    def __init__(self, num_classes, input_size, hidden_size, num_layers, seq_length):\n",
    "        super(LSTM1, self).__init__()\n",
    "        self.num_classes = num_classes #number of classes\n",
    "        self.num_layers = num_layers #number of layers\n",
    "        self.input_size = input_size #input size\n",
    "        self.hidden_size = hidden_size #hidden state\n",
    "        self.seq_length = seq_length #sequence length\n",
    "\n",
    "        self.lstm = nn.LSTM(input_size=input_size, hidden_size=hidden_size,\n",
    "                          num_layers=num_layers, batch_first=True) #lstm\n",
    "        self.fc_1 =  nn.Linear(hidden_size, 128) #fully connected 1\n",
    "        self.fc = nn.Linear(128, num_classes) #fully connected last layer\n",
    "\n",
    "        self.relu = nn.ReLU()\n",
    "    \n",
    "    def forward(self,x):\n",
    "        h_0 = Variable(torch.zeros(self.num_layers, x.size(0), self.hidden_size)) #hidden state\n",
    "        c_0 = Variable(torch.zeros(self.num_layers, x.size(0), self.hidden_size)) #internal state\n",
    "        # Propagate input through LSTM\n",
    "    \n",
    "        output, (hn, cn) = self.lstm(x, (h_0, c_0)) #lstm with input, hidden, and internal state\n",
    "        hn = hn.view(-1, self.hidden_size) #reshaping the data for Dense layer next\n",
    "        out = self.relu(hn)\n",
    "        out = self.fc_1(out) #first Dense\n",
    "        out = self.relu(out) #relu\n",
    "        out = self.fc(out) #Final Output\n",
    "        return out\n",
    "    \n",
    "\n",
    "    # Testing\n",
    "    def check(self, x):\n",
    "        h_0 = Variable(torch.zeros(self.num_layers, x.size(0), self.hidden_size)) #hidden state\n",
    "        c_0 = Variable(torch.zeros(self.num_layers, x.size(0), self.hidden_size)) #internal state\n",
    "        print(c_0)\n",
    "        output, (hn, cn) = self.lstm(x[0], (h_0, c_0)) #lstm with input, hidden, and internal state\n",
    "        hn = hn.view(-1, self.hidden_size) #reshaping the data for Dense layer next\n",
    "        out = self.relu(hn)\n",
    "        out = self.fc_1(out) #first Dense\n",
    "        out = self.relu(out) #relu\n",
    "        out = self.fc(out) #Final Output\n",
    "        return out\n",
    "\n",
    " "
   ]
  },
  {
   "cell_type": "code",
   "execution_count": 11,
   "metadata": {},
   "outputs": [],
   "source": [
    "# define parameters and NN model\n",
    "num_epochs = 20000 #1000 epochs\n",
    "learning_rate = 0.01 #0.001 lr\n",
    "\n",
    "input_size = 1 #number of features\n",
    "hidden_size = 100 #number of features in hidden state\n",
    "num_layers = 1 #number of stacked lstm layers\n",
    "\n",
    "num_classes = 1 #number of output classes \n",
    "lstm1 = LSTM1(num_classes, input_size, hidden_size, num_layers, train_tensors_final.shape[1]) \n",
    "criterion = torch.nn.MSELoss()    # mean-squared error for regression\n",
    "optimizer = torch.optim.Adam(lstm1.parameters(), lr=learning_rate) \n"
   ]
  },
  {
   "cell_type": "code",
   "execution_count": 12,
   "metadata": {},
   "outputs": [
    {
     "name": "stdout",
     "output_type": "stream",
     "text": [
      "Epoch: 0, loss: 0.43533\n",
      "Epoch: 100, loss: 0.02487\n",
      "Epoch: 200, loss: 0.02482\n",
      "Epoch: 300, loss: 0.02481\n",
      "Epoch: 400, loss: 0.02481\n",
      "Epoch: 500, loss: 0.02481\n",
      "Epoch: 600, loss: 0.02480\n",
      "Epoch: 700, loss: 0.02480\n",
      "Epoch: 800, loss: 0.02480\n",
      "Epoch: 900, loss: 0.02479\n",
      "Epoch: 1000, loss: 0.02478\n",
      "Epoch: 1100, loss: 0.02476\n",
      "Epoch: 1200, loss: 0.02475\n",
      "Epoch: 1300, loss: 0.02474\n",
      "Epoch: 1400, loss: 0.02473\n",
      "Epoch: 1500, loss: 0.02473\n",
      "Epoch: 1600, loss: 0.02470\n",
      "Epoch: 1700, loss: 0.02464\n",
      "Epoch: 1800, loss: 0.02460\n",
      "Epoch: 1900, loss: 0.02456\n",
      "Epoch: 2000, loss: 0.02458\n",
      "Epoch: 2100, loss: 0.02454\n",
      "Epoch: 2200, loss: 0.02453\n",
      "Epoch: 2300, loss: 0.02448\n",
      "Epoch: 2400, loss: 0.02448\n",
      "Epoch: 2500, loss: 0.02438\n",
      "Epoch: 2600, loss: 0.02424\n",
      "Epoch: 2700, loss: 0.02413\n",
      "Epoch: 2800, loss: 0.02405\n",
      "Epoch: 2900, loss: 0.02402\n",
      "Epoch: 3000, loss: 0.02406\n",
      "Epoch: 3100, loss: 0.02398\n",
      "Epoch: 3200, loss: 0.02394\n",
      "Epoch: 3300, loss: 0.02401\n",
      "Epoch: 3400, loss: 0.02394\n",
      "Epoch: 3500, loss: 0.02401\n",
      "Epoch: 3600, loss: 0.02388\n",
      "Epoch: 3700, loss: 0.02387\n",
      "Epoch: 3800, loss: 0.02388\n",
      "Epoch: 3900, loss: 0.02383\n",
      "Epoch: 4000, loss: 0.02437\n",
      "Epoch: 4100, loss: 0.02382\n",
      "Epoch: 4200, loss: 0.02360\n",
      "Epoch: 4300, loss: 0.02347\n",
      "Epoch: 4400, loss: 0.02345\n",
      "Epoch: 4500, loss: 0.02339\n",
      "Epoch: 4600, loss: 0.02378\n",
      "Epoch: 4700, loss: 0.02340\n",
      "Epoch: 4800, loss: 0.02338\n",
      "Epoch: 4900, loss: 0.02337\n",
      "Epoch: 5000, loss: 0.02337\n",
      "Epoch: 5100, loss: 0.02336\n",
      "Epoch: 5200, loss: 0.02335\n",
      "Epoch: 5300, loss: 0.02331\n",
      "Epoch: 5400, loss: 0.02336\n",
      "Epoch: 5500, loss: 0.02331\n",
      "Epoch: 5600, loss: 0.02339\n",
      "Epoch: 5700, loss: 0.02343\n",
      "Epoch: 5800, loss: 0.02331\n",
      "Epoch: 5900, loss: 0.02309\n",
      "Epoch: 6000, loss: 0.02306\n",
      "Epoch: 6100, loss: 0.02301\n",
      "Epoch: 6200, loss: 0.02309\n",
      "Epoch: 6300, loss: 0.02303\n",
      "Epoch: 6400, loss: 0.02287\n",
      "Epoch: 6500, loss: 0.02279\n",
      "Epoch: 6600, loss: 0.02268\n",
      "Epoch: 6700, loss: 0.02266\n",
      "Epoch: 6800, loss: 0.02269\n",
      "Epoch: 6900, loss: 0.02263\n",
      "Epoch: 7000, loss: 0.02268\n",
      "Epoch: 7100, loss: 0.02281\n",
      "Epoch: 7200, loss: 0.02262\n",
      "Epoch: 7300, loss: 0.02264\n",
      "Epoch: 7400, loss: 0.02252\n",
      "Epoch: 7500, loss: 0.02249\n",
      "Epoch: 7600, loss: 0.02253\n",
      "Epoch: 7700, loss: 0.02252\n",
      "Epoch: 7800, loss: 0.02261\n",
      "Epoch: 7900, loss: 0.02238\n",
      "Epoch: 8000, loss: 0.02230\n",
      "Epoch: 8100, loss: 0.02219\n",
      "Epoch: 8200, loss: 0.02262\n",
      "Epoch: 8300, loss: 0.02217\n",
      "Epoch: 8400, loss: 0.02204\n",
      "Epoch: 8500, loss: 0.02197\n",
      "Epoch: 8600, loss: 0.02193\n",
      "Epoch: 8700, loss: 0.02220\n",
      "Epoch: 8800, loss: 0.02185\n",
      "Epoch: 8900, loss: 0.02192\n",
      "Epoch: 9000, loss: 0.02184\n",
      "Epoch: 9100, loss: 0.02177\n",
      "Epoch: 9200, loss: 0.02176\n",
      "Epoch: 9300, loss: 0.02218\n",
      "Epoch: 9400, loss: 0.02176\n",
      "Epoch: 9500, loss: 0.02171\n",
      "Epoch: 9600, loss: 0.02180\n",
      "Epoch: 9700, loss: 0.02170\n",
      "Epoch: 9800, loss: 0.02165\n",
      "Epoch: 9900, loss: 0.02170\n",
      "Epoch: 10000, loss: 0.02201\n",
      "Epoch: 10100, loss: 0.02170\n",
      "Epoch: 10200, loss: 0.02169\n",
      "Epoch: 10300, loss: 0.02166\n",
      "Epoch: 10400, loss: 0.02167\n",
      "Epoch: 10500, loss: 0.02158\n",
      "Epoch: 10600, loss: 0.02157\n",
      "Epoch: 10700, loss: 0.02178\n",
      "Epoch: 10800, loss: 0.02170\n",
      "Epoch: 10900, loss: 0.02170\n",
      "Epoch: 11000, loss: 0.02155\n",
      "Epoch: 11100, loss: 0.02169\n",
      "Epoch: 11200, loss: 0.02147\n",
      "Epoch: 11300, loss: 0.02140\n",
      "Epoch: 11400, loss: 0.02150\n",
      "Epoch: 11500, loss: 0.02155\n",
      "Epoch: 11600, loss: 0.02157\n",
      "Epoch: 11700, loss: 0.02171\n",
      "Epoch: 11800, loss: 0.02146\n",
      "Epoch: 11900, loss: 0.02137\n",
      "Epoch: 12000, loss: 0.02146\n",
      "Epoch: 12100, loss: 0.02223\n",
      "Epoch: 12200, loss: 0.02129\n",
      "Epoch: 12300, loss: 0.02175\n",
      "Epoch: 12400, loss: 0.02110\n",
      "Epoch: 12500, loss: 0.02174\n",
      "Epoch: 12600, loss: 0.02108\n",
      "Epoch: 12700, loss: 0.02099\n",
      "Epoch: 12800, loss: 0.02090\n",
      "Epoch: 12900, loss: 0.02088\n",
      "Epoch: 13000, loss: 0.02086\n",
      "Epoch: 13100, loss: 0.02084\n",
      "Epoch: 13200, loss: 0.02085\n",
      "Epoch: 13300, loss: 0.02062\n",
      "Epoch: 13400, loss: 0.02074\n",
      "Epoch: 13500, loss: 0.02049\n",
      "Epoch: 13600, loss: 0.02045\n",
      "Epoch: 13700, loss: 0.02070\n",
      "Epoch: 13800, loss: 0.02037\n",
      "Epoch: 13900, loss: 0.02037\n",
      "Epoch: 14000, loss: 0.02037\n",
      "Epoch: 14100, loss: 0.02038\n",
      "Epoch: 14200, loss: 0.02042\n",
      "Epoch: 14300, loss: 0.02015\n",
      "Epoch: 14400, loss: 0.02023\n",
      "Epoch: 14500, loss: 0.02016\n",
      "Epoch: 14600, loss: 0.02032\n",
      "Epoch: 14700, loss: 0.01995\n",
      "Epoch: 14800, loss: 0.02035\n",
      "Epoch: 14900, loss: 0.01990\n",
      "Epoch: 15000, loss: 0.02006\n",
      "Epoch: 15100, loss: 0.02001\n",
      "Epoch: 15200, loss: 0.01997\n",
      "Epoch: 15300, loss: 0.02002\n",
      "Epoch: 15400, loss: 0.02000\n",
      "Epoch: 15500, loss: 0.01982\n",
      "Epoch: 15600, loss: 0.01988\n",
      "Epoch: 15700, loss: 0.02002\n",
      "Epoch: 15800, loss: 0.01987\n",
      "Epoch: 15900, loss: 0.01972\n",
      "Epoch: 16000, loss: 0.01961\n",
      "Epoch: 16100, loss: 0.01982\n",
      "Epoch: 16200, loss: 0.01958\n",
      "Epoch: 16300, loss: 0.01993\n",
      "Epoch: 16400, loss: 0.01968\n",
      "Epoch: 16500, loss: 0.02020\n",
      "Epoch: 16600, loss: 0.02084\n",
      "Epoch: 16700, loss: 0.01937\n",
      "Epoch: 16800, loss: 0.01968\n",
      "Epoch: 16900, loss: 0.01955\n",
      "Epoch: 17000, loss: 0.01940\n",
      "Epoch: 17100, loss: 0.01940\n",
      "Epoch: 17200, loss: 0.01994\n",
      "Epoch: 17300, loss: 0.01939\n",
      "Epoch: 17400, loss: 0.01929\n",
      "Epoch: 17500, loss: 0.01995\n",
      "Epoch: 17600, loss: 0.01942\n",
      "Epoch: 17700, loss: 0.01925\n",
      "Epoch: 17800, loss: 0.01949\n",
      "Epoch: 17900, loss: 0.01943\n",
      "Epoch: 18000, loss: 0.01928\n",
      "Epoch: 18100, loss: 0.01931\n",
      "Epoch: 18200, loss: 0.01918\n",
      "Epoch: 18300, loss: 0.01920\n",
      "Epoch: 18400, loss: 0.01918\n",
      "Epoch: 18500, loss: 0.02054\n",
      "Epoch: 18600, loss: 0.01967\n",
      "Epoch: 18700, loss: 0.01989\n",
      "Epoch: 18800, loss: 0.01919\n",
      "Epoch: 18900, loss: 0.01934\n",
      "Epoch: 19000, loss: 0.01947\n",
      "Epoch: 19100, loss: 0.01915\n",
      "Epoch: 19200, loss: 0.01910\n",
      "Epoch: 19300, loss: 0.02014\n",
      "Epoch: 19400, loss: 0.01918\n",
      "Epoch: 19500, loss: 0.01922\n",
      "Epoch: 19600, loss: 0.01919\n",
      "Epoch: 19700, loss: 0.01900\n",
      "Epoch: 19800, loss: 0.01926\n",
      "Epoch: 19900, loss: 0.01928\n"
     ]
    }
   ],
   "source": [
    "# train\n",
    "for epoch in range(num_epochs):\n",
    "  outputs = lstm1.forward(train_tensors_final) #forward pass\n",
    "  optimizer.zero_grad() #caluclate the gradient, manually setting to 0\n",
    " \n",
    "  # obtain the loss function\n",
    "  loss = criterion(outputs[:-1], train_tensors[1:])\n",
    " \n",
    "  loss.backward() #calculates the loss of the loss function\n",
    " \n",
    "  optimizer.step() #improve from loss, i.e backprop\n",
    "  if epoch % 100 == 0:\n",
    "    print(\"Epoch: %d, loss: %1.5f\" % (epoch, loss.item())) "
   ]
  },
  {
   "cell_type": "code",
   "execution_count": 13,
   "metadata": {},
   "outputs": [
    {
     "data": {
      "image/png": "[encoded data removed]",
      "text/plain": [
       "<Figure size 720x432 with 1 Axes>"
      ]
     },
     "metadata": {
      "needs_background": "light"
     },
     "output_type": "display_data"
    }
   ],
   "source": [
    "# Test on whole data set and plot results\n",
    "\n",
    "whole_set = mm.transform(close_price_df) #old transformers\n",
    "\n",
    "\n",
    "whole_set_tensor = Variable(torch.Tensor(whole_set))\n",
    "#reshaping the dataset\n",
    "whole_set_reshaped = torch.reshape(whole_set_tensor, (whole_set_tensor.shape[0], 1, whole_set_tensor.shape[1])) \n",
    "\n",
    "\n",
    "output = lstm1(whole_set_reshaped[:-1])#forward pass\n",
    "data_predict = output.data.numpy() #numpy conversion\n",
    "dataY_plot = whole_set_tensor[1:].data.numpy()\n",
    "\n",
    "predicted_data_tr = mm.inverse_transform(data_predict) #reverse transformation\n",
    "dataY_plot = mm.inverse_transform(dataY_plot)\n",
    "plt.figure(figsize=(10,6)) #plotting\n",
    "plt.axvline(x=200, c='r', linestyle='--') #size of the training set\n",
    "\n",
    "plt.plot(dataY_plot, label='Actual Data') #actual plot\n",
    "plt.plot(predicted_data_tr, label='Predicted Data') #predicted plot\n",
    "plt.title('Time-Series Prediction')\n",
    "plt.legend()\n",
    "plt.show() "
   ]
  },
  {
   "cell_type": "code",
   "execution_count": 14,
   "metadata": {},
   "outputs": [
    {
     "data": {
      "text/plain": [
       "249"
      ]
     },
     "execution_count": 14,
     "metadata": {},
     "output_type": "execute_result"
    }
   ],
   "source": [
    "data_predict.shape[0]\n"
   ]
  },
  {
   "cell_type": "code",
   "execution_count": 15,
   "metadata": {},
   "outputs": [
    {
     "data": {
      "text/plain": [
       "array([[ 0.00083215],\n",
       "       [-0.00018848],\n",
       "       [ 0.00259325],\n",
       "       [ 0.00280732],\n",
       "       [ 0.00275933]], dtype=float32)"
      ]
     },
     "execution_count": 15,
     "metadata": {},
     "output_type": "execute_result"
    }
   ],
   "source": [
    "predicted_data_tr[201:206]"
   ]
  }
 ],
 "metadata": {
  "interpreter": {
   "hash": "0db39d1224b997b96cc8c02b0530d86f5778fca5c81aae5b0263fea6b29bd35e"
  },
  "kernelspec": {
   "display_name": "Python 3.9.7 ('biai')",
   "language": "python",
   "name": "python3"
  },
  "language_info": {
   "codemirror_mode": {
    "name": "ipython",
    "version": 3
   },
   "file_extension": ".py",
   "mimetype": "text/x-python",
   "name": "python",
   "nbconvert_exporter": "python",
   "pygments_lexer": "ipython3",
   "version": "3.9.12"
  },
  "orig_nbformat": 4
 },
 "nbformat": 4,
 "nbformat_minor": 2
}
